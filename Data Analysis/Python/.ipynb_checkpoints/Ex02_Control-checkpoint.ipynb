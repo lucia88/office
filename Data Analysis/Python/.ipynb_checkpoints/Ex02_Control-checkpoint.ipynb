{
 "cells": [
  {
   "cell_type": "markdown",
   "metadata": {},
   "source": [
    "# 제어문"
   ]
  },
  {
   "cell_type": "markdown",
   "metadata": {},
   "source": [
    "## if문\n",
    "* 주어진 조건에 따라 문장을 수행\n",
    "* 형식1)\n",
    "<pre> \n",
    "    if 조건문:\n",
    "        구문1\n",
    "    else:\n",
    "        구문2\n",
    "</pre>"
   ]
  },
  {
   "cell_type": "code",
   "execution_count": 1,
   "metadata": {},
   "outputs": [
    {
     "name": "stdout",
     "output_type": "stream",
     "text": [
      "양수입니다.\n"
     ]
    }
   ],
   "source": [
    "su=10\n",
    "if su > 0:\n",
    "    print(\"양수입니다.\")\n",
    "else:\n",
    "    print(\"음수입니다.\")"
   ]
  },
  {
   "cell_type": "code",
   "execution_count": 2,
   "metadata": {},
   "outputs": [
    {
     "name": "stdout",
     "output_type": "stream",
     "text": [
      "짝수입니다.\n"
     ]
    }
   ],
   "source": [
    "num=20\n",
    "\n",
    "if num%2==0:\n",
    "    print(\"짝수입니다.\")\n",
    "else:\n",
    "    print(\"홀수입니다.\")"
   ]
  },
  {
   "cell_type": "markdown",
   "metadata": {},
   "source": [
    "* 형식2)\n",
    "<pre> \n",
    "    if 조건문:\n",
    "        구문1\n",
    "    elif:\n",
    "        구문2\n",
    "    else:\n",
    "        구문3\n",
    "</pre>"
   ]
  },
  {
   "cell_type": "code",
   "execution_count": 3,
   "metadata": {},
   "outputs": [
    {
     "name": "stdout",
     "output_type": "stream",
     "text": [
      "F\n"
     ]
    }
   ],
   "source": [
    "score=30\n",
    "\n",
    "if score >= 90:\n",
    "    print('A')\n",
    "elif score >=80:\n",
    "    print('B')\n",
    "elif score >=70:\n",
    "    print(\"C\")\n",
    "else:\n",
    "    print('F')"
   ]
  },
  {
   "cell_type": "markdown",
   "metadata": {},
   "source": [
    "## while문\n",
    "* 조건식을 만족할 때 까지 구문 반복\n",
    "* 형식)\n",
    "<pre> \n",
    "    while 조건식:\n",
    "        구문\n",
    "</pre>"
   ]
  },
  {
   "cell_type": "code",
   "execution_count": 4,
   "metadata": {},
   "outputs": [
    {
     "name": "stdout",
     "output_type": "stream",
     "text": [
      "0\n",
      "1\n",
      "2\n"
     ]
    }
   ],
   "source": [
    "hap=0\n",
    "\n",
    "while hap < 3:\n",
    "    print(hap)\n",
    "    hap +=1"
   ]
  },
  {
   "cell_type": "code",
   "execution_count": 10,
   "metadata": {},
   "outputs": [
    {
     "name": "stdout",
     "output_type": "stream",
     "text": [
      "나무를 1 번 찍었습니다\n",
      "나무를 2 번 찍었습니다\n",
      "나무를 3 번 찍었습니다\n",
      "나무를 4 번 찍었습니다\n",
      "나무를 5 번 찍었습니다\n",
      "나무를 6 번 찍었습니다\n",
      "나무를 7 번 찍었습니다\n",
      "나무를 8 번 찍었습니다\n",
      "나무를 9 번 찍었습니다\n",
      "나무를 10 번 찍었습니다\n",
      "나무 넘어갑니다\n"
     ]
    }
   ],
   "source": [
    "tree_hit=0\n",
    "while tree_hit < 10:\n",
    "    tree_hit=tree_hit + 1\n",
    "    print(\"나무를\", tree_hit, \"번 찍었습니다\")\n",
    "    \n",
    "    if tree_hit==10:\n",
    "        print(\"나무 넘어갑니다\")"
   ]
  },
  {
   "cell_type": "markdown",
   "metadata": {},
   "source": [
    "## for문\n",
    "* 순차적 반복\n",
    "* 형식) \n",
    "\n",
    "<pre>\n",
    "for item in sequence 객체(List, Tupe,  문자열): \n",
    "    구문\n",
    "</pre>"
   ]
  },
  {
   "cell_type": "code",
   "execution_count": 1,
   "metadata": {},
   "outputs": [
    {
     "name": "stdout",
     "output_type": "stream",
     "text": [
      "10\n",
      "20\n",
      "30\n"
     ]
    }
   ],
   "source": [
    "for a in [10, 20, 30]:\n",
    "    print(a)"
   ]
  },
  {
   "cell_type": "code",
   "execution_count": 2,
   "metadata": {},
   "outputs": [
    {
     "name": "stdout",
     "output_type": "stream",
     "text": [
      "0\n",
      "1\n",
      "2\n"
     ]
    }
   ],
   "source": [
    "for b in range(3):\n",
    "    print(b)"
   ]
  },
  {
   "cell_type": "code",
   "execution_count": 4,
   "metadata": {},
   "outputs": [
    {
     "name": "stdout",
     "output_type": "stream",
     "text": [
      "2\n",
      "4\n",
      "6\n",
      "8\n"
     ]
    }
   ],
   "source": [
    "for c in range(2, 10, 2):\n",
    "    print(c)"
   ]
  },
  {
   "cell_type": "markdown",
   "metadata": {},
   "source": [
    "* 컴프리핸션(comprehension)\n",
    " - 리스트 컴프리핸션으로는 단 한 줄의 코드로 손쉽게\n",
    " - 새로운 리스트 = [요소에 대한 처리 for 아이템 in 리스트]\n",
    " - 새로운 리스트 = [요소에 대한 처리 for 아이템 in 리스트 if 조건식]"
   ]
  },
  {
   "cell_type": "code",
   "execution_count": 5,
   "metadata": {},
   "outputs": [
    {
     "name": "stdout",
     "output_type": "stream",
     "text": [
      "[11, 21, 31]\n"
     ]
    }
   ],
   "source": [
    "a=[10, 20, 30]\n",
    "b=[c+1 for c in a]\n",
    "print(b)"
   ]
  },
  {
   "cell_type": "code",
   "execution_count": 7,
   "metadata": {},
   "outputs": [
    {
     "name": "stdout",
     "output_type": "stream",
     "text": [
      "[20, 40]\n"
     ]
    }
   ],
   "source": [
    "a=[10, 20, 30]\n",
    "b=[c*2 for c in a if c<25]\n",
    "print(b)"
   ]
  },
  {
   "cell_type": "markdown",
   "metadata": {},
   "source": [
    "# 실습\n",
    "* https://welcomec.tistory.com/entry/%ED%8C%8C%EC%9D%B4%EC%8D%AC-%EB%A1%9C%EB%98%90%EA%B2%8C%EC%9E%84-lotto-%EB%A7%8C%EB%93%A4%EA%B8%B0-%EB%8B%B9%EC%B2%A8-%ED%99%95%EC%9D%B8-%EA%B9%8C%EC%A7%80\n",
    "\n",
    "\n",
    "* 당첨번호 추출\n",
    "* 내번호 입력\n",
    "* 내번호가 당첨번호에 포함되었는지 판단\n",
    "* 탈락 또는 등수 표기"
   ]
  },
  {
   "cell_type": "code",
   "execution_count": 1,
   "metadata": {},
   "outputs": [],
   "source": [
    "import random"
   ]
  },
  {
   "cell_type": "markdown",
   "metadata": {},
   "source": [
    "## 당첨번호 추출"
   ]
  },
  {
   "cell_type": "code",
   "execution_count": 21,
   "metadata": {},
   "outputs": [
    {
     "name": "stdout",
     "output_type": "stream",
     "text": [
      "{26}\n",
      "{8, 26}\n",
      "{8, 9, 26}\n",
      "{8, 9, 26, 45}\n",
      "{32, 8, 9, 45, 26}\n",
      "{32, 6, 8, 9, 45, 26}\n",
      "[6, 8, 9, 26, 32, 45]\n"
     ]
    }
   ],
   "source": [
    "number=set()                                             # 로또는 중복값 없음\n",
    "\n",
    "while len(number) < 6:\n",
    "    number.add(random.randint(1, 45))                     # 1 ~ 45까지 랜덤값\n",
    "    print(number)\n",
    "    \n",
    "lotto=list(number)\n",
    "lotto.sort()\n",
    "print(lotto)"
   ]
  },
  {
   "cell_type": "markdown",
   "metadata": {},
   "source": [
    "## 내번호 입력"
   ]
  },
  {
   "cell_type": "code",
   "execution_count": null,
   "metadata": {},
   "outputs": [],
   "source": [
    "my_lotto=[]\n",
    "\n",
    "number=input(\"내 로또번호 띄어쓰기로 6개 입력:\").split(\" \")   # 입력시 문자\n",
    "print(number)\n",
    "\n",
    "for n in number:\n",
    "    my_lotto.append(int(n))                                   # 입력값 숫자로 형변환 후 list 저장\n",
    "print(my_lotto)"
   ]
  },
  {
   "cell_type": "markdown",
   "metadata": {},
   "source": [
    "## 내번호가 당첨번호에 포함되어있는지 판단"
   ]
  },
  {
   "cell_type": "code",
   "execution_count": 20,
   "metadata": {},
   "outputs": [
    {
     "name": "stdout",
     "output_type": "stream",
     "text": [
      "당첨번호: [8, 16, 21, 23, 28, 39]\n",
      "내번호: [1, 2, 3, 4, 5, 6]\n"
     ]
    }
   ],
   "source": [
    "same=0\n",
    "\n",
    "for number in my_lotto:                     # 내 입력값\n",
    "    if number in lotto:                     # 내 입력 값이 로또 번호에 포함 했니?\n",
    "        same +=1                            # 있으면 1씩 증가 \n",
    "        \n",
    "print(\"당첨번호:\", lotto)\n",
    "print(\"내번호:\", my_lotto)  \n",
    "print(same)"
   ]
  },
  {
   "cell_type": "code",
   "execution_count": 19,
   "metadata": {},
   "outputs": [
    {
     "name": "stdout",
     "output_type": "stream",
     "text": [
      "꽝\n"
     ]
    }
   ],
   "source": [
    "score=[0, 6, 5, 4, 3, 2, 1]       # 1=6, 2=5, 3=4\n",
    "if same==0:\n",
    "    print(\"꽝\")\n",
    "else:\n",
    "    print(same, \"개 맞음\", score[same], \"등 당첨!\")"
   ]
  },
  {
   "cell_type": "code",
   "execution_count": null,
   "metadata": {},
   "outputs": [],
   "source": []
  }
 ],
 "metadata": {
  "kernelspec": {
   "display_name": "Python 3",
   "language": "python",
   "name": "python3"
  },
  "language_info": {
   "codemirror_mode": {
    "name": "ipython",
    "version": 3
   },
   "file_extension": ".py",
   "mimetype": "text/x-python",
   "name": "python",
   "nbconvert_exporter": "python",
   "pygments_lexer": "ipython3",
   "version": "3.7.0"
  },
  "toc-autonumbering": true
 },
 "nbformat": 4,
 "nbformat_minor": 4
}
