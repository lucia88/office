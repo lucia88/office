{
 "cells": [
  {
   "cell_type": "markdown",
   "metadata": {},
   "source": [
    "# 함수\n",
    "* 함수란?\n",
    "  - 특정 동작을 반복할 때, 수행하는 구문을 하나의 기능으로 정의\n",
    "  - 입력값, 출력값 존재한다.\n",
    "  \n",
    "* 함수 종류\n",
    "  - Liaray 함수: 시스템에서 미리 작성해 놓은 함수\n",
    "  - 내장 함수 : 파이썬 설치 시 기본적으로 제공함수 \n",
    "  - 사용자 정의 함수 : 프로그램 안에서 필요한 기능들을 사용자가 직접 만들어서 사용하는 함수\n",
    "  \n",
    "* 형식)\n",
    " <pre>\n",
    "     def 함수 이름(파라미터):\n",
    "         내용\n",
    "         return 반환 값\n",
    " </pre>"
   ]
  },
  {
   "cell_type": "markdown",
   "metadata": {},
   "source": [
    "* 입력/출력 존재"
   ]
  },
  {
   "cell_type": "code",
   "execution_count": 4,
   "metadata": {},
   "outputs": [
    {
     "name": "stdout",
     "output_type": "stream",
     "text": [
      "200\n"
     ]
    }
   ],
   "source": [
    "def add(x):\n",
    "    y=x*20\n",
    "    return y\n",
    "\n",
    "print(add(10))\n",
    "    "
   ]
  },
  {
   "cell_type": "code",
   "execution_count": 8,
   "metadata": {},
   "outputs": [
    {
     "name": "stdout",
     "output_type": "stream",
     "text": [
      "9765625\n"
     ]
    }
   ],
   "source": [
    "def sub(x):\n",
    "    if x > 50:\n",
    "        return x+30\n",
    "    else:\n",
    "        return x**5\n",
    "    \n",
    "print(sub(25))"
   ]
  },
  {
   "cell_type": "markdown",
   "metadata": {},
   "source": [
    "* 입력값이 없는 경우"
   ]
  },
  {
   "cell_type": "code",
   "execution_count": 1,
   "metadata": {},
   "outputs": [
    {
     "name": "stdout",
     "output_type": "stream",
     "text": [
      "Python\n"
     ]
    }
   ],
   "source": [
    "def fun():\n",
    "    return 'Python'\n",
    "\n",
    "print(fun())"
   ]
  },
  {
   "cell_type": "markdown",
   "metadata": {},
   "source": [
    "* 출력값이 없는 함수를 구성, 즉 return 없는 경우"
   ]
  },
  {
   "cell_type": "code",
   "execution_count": null,
   "metadata": {},
   "outputs": [
    {
     "name": "stdout",
     "output_type": "stream",
     "text": [
      "10\n"
     ]
    }
   ],
   "source": [
    "def sub(x):\n",
    "    print(x)\n",
    "\n",
    "sub(10)"
   ]
  },
  {
   "cell_type": "markdown",
   "metadata": {},
   "source": [
    "* https://losskatsu.github.io/programming/function-module-package/#3-%ED%8C%A8%ED%82%A4%EC%A7%80%EB%9D%BC%EC%9D%B4%EB%B8%8C%EB%9F%AC%EB%A6%AC"
   ]
  },
  {
   "cell_type": "code",
   "execution_count": null,
   "metadata": {},
   "outputs": [],
   "source": []
  }
 ],
 "metadata": {
  "kernelspec": {
   "display_name": "Python 3",
   "language": "python",
   "name": "python3"
  },
  "language_info": {
   "codemirror_mode": {
    "name": "ipython",
    "version": 3
   },
   "file_extension": ".py",
   "mimetype": "text/x-python",
   "name": "python",
   "nbconvert_exporter": "python",
   "pygments_lexer": "ipython3",
   "version": "3.7.0"
  }
 },
 "nbformat": 4,
 "nbformat_minor": 4
}
